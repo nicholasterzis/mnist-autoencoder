{
 "cells": [
  {
   "cell_type": "code",
   "execution_count": 2,
   "metadata": {},
   "outputs": [],
   "source": [
    "import numpy as np\n",
    "import tensorflow as tf\n",
    "import matplotlib.pyplot as plt\n",
    "import pandas as pd\n",
    "import time\n",
    "\n",
    "from random import randint\n",
    "from sklearn.decomposition import PCA\n",
    "from tensorflow.keras import layers, Input\n",
    "from tensorflow.keras.datasets import mnist\n",
    "from tensorflow.keras.models import Model, Sequential\n",
    "from tensorflow.keras.layers import Dense, Flatten, Dropout, Rescaling, Reshape, Conv2D, MaxPooling2D, UpSampling2D, Conv2DTranspose"
   ]
  },
  {
   "cell_type": "markdown",
   "metadata": {},
   "source": [
    "#### Run below cell to load models for examples (long training times) *PCA model needs to be trained again"
   ]
  },
  {
   "cell_type": "code",
   "execution_count": 3,
   "metadata": {},
   "outputs": [],
   "source": [
    "KerasAE = tf.keras.models.load_model('KerasAE')\n",
    "CAE = tf.keras.models.load_model('Conv AE')\n",
    "AE = tf.keras.models.load_model('Simple AE')\n",
    "OnePoolAE = tf.keras.models.load_model('OnePool')"
   ]
  },
  {
   "cell_type": "markdown",
   "metadata": {},
   "source": [
    "## Import and scale the data"
   ]
  },
  {
   "cell_type": "code",
   "execution_count": 4,
   "metadata": {},
   "outputs": [],
   "source": [
    "(x_train, y_train), (x_test, _y_test) = mnist.load_data()\n",
    "x_train = x_train/255\n",
    "x_test = x_test/255"
   ]
  },
  {
   "cell_type": "markdown",
   "metadata": {},
   "source": [
    "## Split the data depending on class label"
   ]
  },
  {
   "cell_type": "code",
   "execution_count": 6,
   "metadata": {},
   "outputs": [],
   "source": [
    "samples = [[] for _ in range(10)]\n",
    "for i in range(len(y_train)-1):\n",
    "    for j in range(10):\n",
    "        if y_train[i]==j:\n",
    "            samples[j].append(x_train[i])  "
   ]
  },
  {
   "cell_type": "markdown",
   "metadata": {},
   "source": [
    "## Create output data (x_increment) "
   ]
  },
  {
   "cell_type": "code",
   "execution_count": 7,
   "metadata": {},
   "outputs": [],
   "source": [
    "def getRand(array): \n",
    "    return array[randint(0,len(array)-1)]"
   ]
  },
  {
   "cell_type": "code",
   "execution_count": 8,
   "metadata": {
    "scrolled": true
   },
   "outputs": [],
   "source": [
    "x_increment = [[] for _ in range(len(x_train))]\n",
    "for i in range(len(x_increment)):\n",
    "    for j in range(9):\n",
    "        if y_train[i] == j:\n",
    "            x_increment[i] = getRand(samples[j+1])\n",
    "    if y_train[i] == 9:\n",
    "        x_increment[i] = getRand(samples[0])\n",
    "x_increment = np.asarray(x_increment)"
   ]
  },
  {
   "cell_type": "markdown",
   "metadata": {},
   "source": [
    "#### x_increment examples"
   ]
  },
  {
   "cell_type": "code",
   "execution_count": 7,
   "metadata": {},
   "outputs": [
    {
     "data": {
      "text/plain": [
       "Text(0.5, 1.0, 'Increment')"
      ]
     },
     "execution_count": 7,
     "metadata": {},
     "output_type": "execute_result"
    },
    {
     "data": {
      "image/png": "[encoded data removed]",
      "text/plain": [
       "<Figure size 432x288 with 2 Axes>"
      ]
     },
     "metadata": {
      "needs_background": "light"
     },
     "output_type": "display_data"
    }
   ],
   "source": [
    "b = [12464,28645,23724,12,4938,2387,1298,298]\n",
    "a = b[2]\n",
    "fig, (ax1,ax2) = plt.subplots(1,2)\n",
    "ax1.imshow(x_train[a])\n",
    "ax1.set_title('Original')\n",
    "ax2.imshow(x_increment[a])\n",
    "ax2.set_title('Increment')"
   ]
  },
  {
   "cell_type": "markdown",
   "metadata": {},
   "source": [
    "## PCA "
   ]
  },
  {
   "cell_type": "code",
   "execution_count": 9,
   "metadata": {},
   "outputs": [
    {
     "data": {
      "text/plain": [
       "PCA(n_components=32)"
      ]
     },
     "execution_count": 9,
     "metadata": {},
     "output_type": "execute_result"
    }
   ],
   "source": [
    "pca = PCA(n_components = 32)\n",
    "X_PCA = Flatten()(x_train)\n",
    "pca.fit(X_PCA)"
   ]
  },
  {
   "cell_type": "code",
   "execution_count": 11,
   "metadata": {},
   "outputs": [],
   "source": [
    "PCAMatcher = Sequential()\n",
    "PCAMatcher.add(Dense(units = 32, activation = 'relu', input_shape = (32,)))\n",
    "PCAMatcher.compile(optimizer = 'adam', loss = 'binary_crossentropy')"
   ]
  },
  {
   "cell_type": "code",
   "execution_count": 12,
   "metadata": {
    "scrolled": true
   },
   "outputs": [
    {
     "name": "stdout",
     "output_type": "stream",
     "text": [
      "Epoch 1/60\n",
      "938/938 [==============================] - 2s 1ms/step - loss: 1.8784\n",
      "Epoch 2/60\n",
      "938/938 [==============================] - 1s 1ms/step - loss: 0.8596\n",
      "Epoch 3/60\n",
      "938/938 [==============================] - 1s 1ms/step - loss: 0.3713\n",
      "Epoch 4/60\n",
      "938/938 [==============================] - 1s 1ms/step - loss: 0.0168\n",
      "Epoch 5/60\n",
      "938/938 [==============================] - 1s 1ms/step - loss: -0.2343\n",
      "Epoch 6/60\n",
      "938/938 [==============================] - 1s 1ms/step - loss: -0.4218\n",
      "Epoch 7/60\n",
      "938/938 [==============================] - 1s 1ms/step - loss: -0.5741\n",
      "Epoch 8/60\n",
      "938/938 [==============================] - 1s 1ms/step - loss: -0.7054\n",
      "Epoch 9/60\n",
      "938/938 [==============================] - 1s 1ms/step - loss: -0.8163\n",
      "Epoch 10/60\n",
      "938/938 [==============================] - 1s 1ms/step - loss: -0.9339\n",
      "Epoch 11/60\n",
      "938/938 [==============================] - 1s 1ms/step - loss: -1.0241\n",
      "Epoch 12/60\n",
      "938/938 [==============================] - 1s 1ms/step - loss: -1.0686\n",
      "Epoch 13/60\n",
      "938/938 [==============================] - 1s 1ms/step - loss: -1.1036\n",
      "Epoch 14/60\n",
      "938/938 [==============================] - 1s 1ms/step - loss: -1.1591\n",
      "Epoch 15/60\n",
      "938/938 [==============================] - 1s 1ms/step - loss: -1.2090\n",
      "Epoch 16/60\n",
      "938/938 [==============================] - 1s 1ms/step - loss: -1.2351\n",
      "Epoch 17/60\n",
      "938/938 [==============================] - 1s 1ms/step - loss: -1.2674\n",
      "Epoch 18/60\n",
      "938/938 [==============================] - 1s 1ms/step - loss: -1.3130\n",
      "Epoch 19/60\n",
      "938/938 [==============================] - 1s 1ms/step - loss: -1.3482\n",
      "Epoch 20/60\n",
      "938/938 [==============================] - 1s 1ms/step - loss: -1.3770\n",
      "Epoch 21/60\n",
      "938/938 [==============================] - 1s 1ms/step - loss: -1.3721\n",
      "Epoch 22/60\n",
      "938/938 [==============================] - 1s 1ms/step - loss: -1.3740\n",
      "Epoch 23/60\n",
      "938/938 [==============================] - 1s 1ms/step - loss: -1.4037\n",
      "Epoch 24/60\n",
      "938/938 [==============================] - 1s 1ms/step - loss: -1.4266\n",
      "Epoch 25/60\n",
      "938/938 [==============================] - 1s 1ms/step - loss: -1.4530\n",
      "Epoch 26/60\n",
      "938/938 [==============================] - 1s 1ms/step - loss: -1.4549\n",
      "Epoch 27/60\n",
      "938/938 [==============================] - 1s 1ms/step - loss: -1.4572\n",
      "Epoch 28/60\n",
      "938/938 [==============================] - 1s 1ms/step - loss: -1.4601\n",
      "Epoch 29/60\n",
      "938/938 [==============================] - 1s 1ms/step - loss: -1.4659\n",
      "Epoch 30/60\n",
      "938/938 [==============================] - 1s 1ms/step - loss: -1.4816\n",
      "Epoch 31/60\n",
      "938/938 [==============================] - 1s 1ms/step - loss: -1.4995\n",
      "Epoch 32/60\n",
      "938/938 [==============================] - 1s 1ms/step - loss: -1.5041\n",
      "Epoch 33/60\n",
      "938/938 [==============================] - 1s 1ms/step - loss: -1.5033\n",
      "Epoch 34/60\n",
      "938/938 [==============================] - 1s 1ms/step - loss: -1.4943\n",
      "Epoch 35/60\n",
      "938/938 [==============================] - 1s 1ms/step - loss: -1.5049\n",
      "Epoch 36/60\n",
      "938/938 [==============================] - 1s 1ms/step - loss: -1.5032\n",
      "Epoch 37/60\n",
      "938/938 [==============================] - 1s 1ms/step - loss: -1.5038\n",
      "Epoch 38/60\n",
      "938/938 [==============================] - 1s 1ms/step - loss: -1.5108\n",
      "Epoch 39/60\n",
      "938/938 [==============================] - 1s 1ms/step - loss: -1.5163\n",
      "Epoch 40/60\n",
      "938/938 [==============================] - 1s 1ms/step - loss: -1.5170\n",
      "Epoch 41/60\n",
      "938/938 [==============================] - 1s 1ms/step - loss: -1.5094\n",
      "Epoch 42/60\n",
      "938/938 [==============================] - 1s 1ms/step - loss: -1.5052\n",
      "Epoch 43/60\n",
      "938/938 [==============================] - 1s 1ms/step - loss: -1.5159\n",
      "Epoch 44/60\n",
      "938/938 [==============================] - 1s 1ms/step - loss: -1.5213\n",
      "Epoch 45/60\n",
      "938/938 [==============================] - 1s 1ms/step - loss: -1.5344\n",
      "Epoch 46/60\n",
      "938/938 [==============================] - 1s 1ms/step - loss: -1.5227\n",
      "Epoch 47/60\n",
      "938/938 [==============================] - 1s 1ms/step - loss: -1.5162\n",
      "Epoch 48/60\n",
      "938/938 [==============================] - 1s 1ms/step - loss: -1.5159\n",
      "Epoch 49/60\n",
      "938/938 [==============================] - 1s 1ms/step - loss: -1.5270\n",
      "Epoch 50/60\n",
      "938/938 [==============================] - 1s 1ms/step - loss: -1.5420\n",
      "Epoch 51/60\n",
      "938/938 [==============================] - 1s 1ms/step - loss: -1.5478\n",
      "Epoch 52/60\n",
      "938/938 [==============================] - 1s 1ms/step - loss: -1.5507\n",
      "Epoch 53/60\n",
      "938/938 [==============================] - 1s 1ms/step - loss: -1.5411\n",
      "Epoch 54/60\n",
      "938/938 [==============================] - 1s 1ms/step - loss: -1.5466\n",
      "Epoch 55/60\n",
      "938/938 [==============================] - 1s 1ms/step - loss: -1.5402\n",
      "Epoch 56/60\n",
      "938/938 [==============================] - 1s 1ms/step - loss: -1.5453\n",
      "Epoch 57/60\n",
      "938/938 [==============================] - 1s 1ms/step - loss: -1.5477\n",
      "Epoch 58/60\n",
      "938/938 [==============================] - 1s 1ms/step - loss: -1.5535\n",
      "Epoch 59/60\n",
      "938/938 [==============================] - 1s 1ms/step - loss: -1.5599\n",
      "Epoch 60/60\n",
      "938/938 [==============================] - 1s 1ms/step - loss: -1.5554\n"
     ]
    },
    {
     "data": {
      "text/plain": [
       "<keras.callbacks.History at 0x1a2014bd2e0>"
      ]
     },
     "execution_count": 12,
     "metadata": {},
     "output_type": "execute_result"
    }
   ],
   "source": [
    "PCAMatcher.fit(pca.transform(X_PCA), pca.transform(Flatten()(x_increment)), epochs = 60, batch_size = 64)"
   ]
  },
  {
   "cell_type": "markdown",
   "metadata": {},
   "source": [
    "## MLP Autoencoder"
   ]
  },
  {
   "cell_type": "code",
   "execution_count": null,
   "metadata": {},
   "outputs": [],
   "source": [
    "Encoder = Sequential() \n",
    "Encoder.add(Input(shape = (28,28)))\n",
    "Encoder.add(Flatten())\n",
    "Encoder.add(Dense(units = 512, activation='relu'))\n",
    "Encoder.add(Dropout(0.5))\n",
    "Encoder.add(Dense(units = 256, activation='relu'))\n",
    "Encoder.add(Dropout(0.5))\n",
    "Encoder.add(Dense(units = 128, activation='relu'))\n",
    "Encoder.add(Dropout(0.5))\n",
    "Encoder.add(Dense(units = 64, activation='relu'))\n",
    "Encoder.add(Dropout(0.5))\n",
    "Encoder.add(Dense(units = 32, activation = 'sigmoid'))"
   ]
  },
  {
   "cell_type": "code",
   "execution_count": null,
   "metadata": {},
   "outputs": [],
   "source": [
    "Decoder = Sequential()\n",
    "Decoder.add(Dense(units = 64, activation='relu', input_shape = (32,)))\n",
    "Decoder.add(Dropout(0.5))\n",
    "Decoder.add(Dense(units = 128, activation='relu'))\n",
    "Decoder.add(Dropout(0.5))\n",
    "Decoder.add(Dense(units = 256, activation='relu'))\n",
    "Decoder.add(Dropout(0.5))\n",
    "Decoder.add(Dense(units = 512, activation='relu'))\n",
    "Decoder.add(Dropout(0.5))\n",
    "Decoder.add(Dense(units = 784, activation = 'sigmoid'))\n",
    "Decoder.add(Reshape((28,28)))"
   ]
  },
  {
   "cell_type": "code",
   "execution_count": null,
   "metadata": {},
   "outputs": [],
   "source": [
    "AE = Model(inputs = Encoder.input, outputs = Decoder(Encoder.outputs))\n",
    "AE.compile(\"adam\", loss = \"binary_crossentropy\")"
   ]
  },
  {
   "cell_type": "code",
   "execution_count": null,
   "metadata": {},
   "outputs": [],
   "source": [
    "history = AE.fit(x_train, x_increment, epochs = 60, batch_size = 64)"
   ]
  },
  {
   "cell_type": "code",
   "execution_count": null,
   "metadata": {},
   "outputs": [],
   "source": [
    "b = [1464,2645,23724,12,4938,2387,1298,298]\n",
    "a = b[7]\n",
    "fig, (ax1, ax2, ax3) = plt.subplots(1,3)\n",
    "ax1.imshow(x_test[a])\n",
    "ax2.imshow(x_increment[a])\n",
    "ax3.imshow(AE(np.expand_dims(x_test[a], axis=0))[0])\n",
    "\n"
   ]
  },
  {
   "cell_type": "markdown",
   "metadata": {},
   "source": [
    "## Convolutional Autoencoders"
   ]
  },
  {
   "cell_type": "markdown",
   "metadata": {},
   "source": [
    "### Only Conv layers - Keras"
   ]
  },
  {
   "cell_type": "code",
   "execution_count": null,
   "metadata": {},
   "outputs": [],
   "source": [
    "KerasEncoder = Sequential() \n",
    "KerasEncoder.add(Conv2D(filters = 16, kernel_size = 3, activation = 'relu', padding = 'same', input_shape=[28,28,1]))\n",
    "KerasEncoder.add(MaxPooling2D(pool_size=(2,2), padding = 'same'))\n",
    "KerasEncoder.add(Conv2D(filters = 16, kernel_size = 3, activation = 'relu', padding = 'same'))\n",
    "KerasEncoder.add(MaxPooling2D(pool_size=(2,2), padding = 'same'))\n",
    "KerasEncoder.add(Conv2D(filters = 8, kernel_size = 2, activation = 'relu', padding = 'same')) \n",
    "KerasEncoder.add(MaxPooling2D(pool_size=(2,2), padding = 'same')) #4x4x8"
   ]
  },
  {
   "cell_type": "code",
   "execution_count": null,
   "metadata": {},
   "outputs": [],
   "source": [
    "KerasDecoder = Sequential() \n",
    "KerasDecoder.add(Conv2D(filters = 8, kernel_size = 3, activation = 'relu', padding = 'same', input_shape=[4,4,8]))\n",
    "KerasDecoder.add(UpSampling2D(size=(2,2)))\n",
    "KerasDecoder.add(Conv2D(filters = 16, kernel_size = 3, activation = 'relu', padding = 'same'))\n",
    "KerasDecoder.add(UpSampling2D(size=(2,2)))\n",
    "KerasDecoder.add(Conv2D(filters = 16, kernel_size = 3, activation = 'relu'))\n",
    "KerasDecoder.add(UpSampling2D(size=(2,2)))\n",
    "KerasDecoder.add(Conv2D(filters = 1, kernel_size = 3, activation = 'sigmoid', padding = 'same'))"
   ]
  },
  {
   "cell_type": "code",
   "execution_count": null,
   "metadata": {},
   "outputs": [],
   "source": [
    "KerasAE = Model(inputs = KerasEncoder.input, outputs = KerasDecoder(KerasEncoder.outputs))\n",
    "KerasAE.compile(\"adam\", loss = \"binary_crossentropy\")"
   ]
  },
  {
   "cell_type": "code",
   "execution_count": null,
   "metadata": {},
   "outputs": [],
   "source": [
    "KerasHistory = KerasAE.fit(x_train, x_increment, epochs = 40, batch_size = 64)"
   ]
  },
  {
   "cell_type": "markdown",
   "metadata": {},
   "source": [
    "### Conv Autoencoder with MLP"
   ]
  },
  {
   "cell_type": "code",
   "execution_count": null,
   "metadata": {},
   "outputs": [],
   "source": [
    "CEncoder = Sequential() \n",
    "CEncoder.add(Conv2D(filters = 32, kernel_size = 3, activation = 'relu', input_shape=[28,28,1]))\n",
    "CEncoder.add(MaxPooling2D(pool_size=(2,2)))\n",
    "CEncoder.add(Conv2D(filters = 16, kernel_size = 3, activation = 'relu'))\n",
    "CEncoder.add(MaxPooling2D(pool_size=(2,2)))\n",
    "CEncoder.add(Conv2D(filters = 8, kernel_size = 2, activation = 'relu')) \n",
    "CEncoder.add(Flatten()) \n",
    "CEncoder.add(Dense(units = 64, activation='relu'))\n",
    "CEncoder.add(Dropout(0.5))\n",
    "CEncoder.add(Dense(units = 32, activation = 'relu'))"
   ]
  },
  {
   "cell_type": "code",
   "execution_count": null,
   "metadata": {},
   "outputs": [],
   "source": [
    "CDecoder = Sequential()\n",
    "CDecoder.add(Dense(units = 64, activation='relu', input_shape = (32,)))\n",
    "CDecoder.add(Dropout(0.5))\n",
    "CDecoder.add(Dense(units = 128, activation='relu'))\n",
    "CDecoder.add(Reshape((4,4,8)))\n",
    "CDecoder.add(Conv2DTranspose(filters=8, kernel_size=2, activation='relu'))\n",
    "CDecoder.add(UpSampling2D(size=(2,2)))\n",
    "CDecoder.add(Conv2DTranspose(filters=16, kernel_size=3, activation='relu'))\n",
    "CDecoder.add(UpSampling2D(size=(2,2)))\n",
    "CDecoder.add(Conv2DTranspose(filters=32, kernel_size=3, activation='relu'))\n",
    "CDecoder.add(Conv2DTranspose(filters = 1, kernel_size = 3, activation = 'sigmoid'))"
   ]
  },
  {
   "cell_type": "code",
   "execution_count": null,
   "metadata": {},
   "outputs": [],
   "source": [
    "CAE = Model(inputs = CEncoder.input, outputs = CDecoder(CEncoder.outputs))\n",
    "CAE.compile(\"adam\", loss = \"binary_crossentropy\")"
   ]
  },
  {
   "cell_type": "code",
   "execution_count": null,
   "metadata": {},
   "outputs": [],
   "source": [
    "ConvHistory = CAE.fit(x_train, x_increment, epochs = 60, batch_size = 64)"
   ]
  },
  {
   "cell_type": "code",
   "execution_count": null,
   "metadata": {},
   "outputs": [],
   "source": [
    "b = [1464,2645,2724,12,4938,2387,1298,298]\n",
    "a = b[7]\n",
    "fig, (ax1, ax2, ax3) = plt.subplots(1,3)\n",
    "ax1.imshow(x_test[a])\n",
    "ax2.imshow(x_increment[a])\n",
    "ax3.imshow(CAE(np.expand_dims(x_test[a], axis=0))[0])"
   ]
  },
  {
   "cell_type": "markdown",
   "metadata": {},
   "source": [
    "## Conv Autoencoder with only 1 Pooling layer"
   ]
  },
  {
   "cell_type": "code",
   "execution_count": null,
   "metadata": {},
   "outputs": [],
   "source": [
    "OnePoolEncoder = Sequential() \n",
    "OnePoolEncoder.add(Conv2D(filters = 16, kernel_size = 3, activation = 'relu', input_shape=[28,28,1])) #26x26x16\n",
    "OnePoolEncoder.add(MaxPooling2D(pool_size=(2,2))) #13x13x16\n",
    "OnePoolEncoder.add(Conv2D(filters = 8, kernel_size = 2, activation = 'relu')) #13x13x8 \n",
    "OnePoolEncoder.add(Flatten()) \n",
    "OnePoolEncoder.add(Dense(units = 256, activation='relu'))\n",
    "OnePoolEncoder.add(Dropout(0.5))\n",
    "OnePoolEncoder.add(Dense(units = 64, activation = 'relu'))\n",
    "OnePoolEncoder.add(Dropout(0.5))\n",
    "OnePoolEncoder.add(Dense(units = 32, activation='relu'))"
   ]
  },
  {
   "cell_type": "code",
   "execution_count": null,
   "metadata": {},
   "outputs": [],
   "source": [
    "OnePoolDecoder = Sequential()\n",
    "OnePoolDecoder.add(Dense(units = 64, activation='relu', input_shape = (32,)))\n",
    "OnePoolDecoder.add(Dropout(0.5))\n",
    "OnePoolDecoder.add(Dense(units = 256, activation='relu'))\n",
    "OnePoolDecoder.add(Dropout(0.5))\n",
    "OnePoolDecoder.add(Dense(units = 1352, activation='relu'))\n",
    "OnePoolDecoder.add(Reshape((13,13,8)))\n",
    "OnePoolDecoder.add(Conv2DTranspose(filters=8, kernel_size=2, activation='relu'))\n",
    "OnePoolDecoder.add(UpSampling2D(size=(2,2)))\n",
    "OnePoolDecoder.add(Conv2DTranspose(filters=16, kernel_size=3, activation='relu'))\n",
    "OnePoolDecoder.add(Conv2D(filters = 1, kernel_size = 3, activation = 'sigmoid'))"
   ]
  },
  {
   "cell_type": "code",
   "execution_count": null,
   "metadata": {},
   "outputs": [],
   "source": [
    "OnePoolAE = Model(inputs = OnePoolEncoder.input, outputs = OnePoolDecoder(OnePoolEncoder.outputs))\n",
    "OnePoolAE.compile(\"adam\", loss = \"binary_crossentropy\")"
   ]
  },
  {
   "cell_type": "code",
   "execution_count": null,
   "metadata": {},
   "outputs": [],
   "source": [
    "OnePoolHistory = OnePoolAE.fit(x_train, x_increment, epochs = 60, batch_size = 64)"
   ]
  },
  {
   "cell_type": "markdown",
   "metadata": {},
   "source": [
    "## Examples"
   ]
  },
  {
   "cell_type": "code",
   "execution_count": 16,
   "metadata": {
    "scrolled": true
   },
   "outputs": [
    {
     "data": {
      "text/plain": [
       "Text(0.5, 1.0, 'PCA')"
      ]
     },
     "execution_count": 16,
     "metadata": {},
     "output_type": "execute_result"
    },
    {
     "data": {
      "image/png": "[encoded data removed]",
      "text/plain": [
       "<Figure size 1440x720 with 6 Axes>"
      ]
     },
     "metadata": {
      "needs_background": "light"
     },
     "output_type": "display_data"
    }
   ],
   "source": [
    "fig, axs = plt.subplots(nrows = 2,ncols = 3, figsize=(20, 10))\n",
    "a = 4938 # use a in [0,9999] to get a random example from the test set\n",
    "\n",
    "PCAin = Flatten()(x_test)\n",
    "PCAout = Reshape((10000,28,28))((np.expand_dims(pca.inverse_transform(PCAMatcher(pca.transform(PCAin))), axis=0)))[0]\n",
    "\n",
    "axs[0,0].imshow(x_test[a])\n",
    "axs[0,0].set_title('Input')\n",
    "axs[0,1].imshow(AE(np.expand_dims(x_test[a], axis=0))[0])\n",
    "axs[0,1].set_title('MLP AE')\n",
    "axs[0,2].imshow(KerasAE(np.expand_dims(x_test[a], axis=0))[0])\n",
    "axs[0,2].set_title('Keras')\n",
    "axs[1,0].imshow(CAE(np.expand_dims(x_test[a], axis=0))[0])\n",
    "axs[1,0].set_title('Conv')\n",
    "axs[1,1].imshow(OnePoolAE(np.expand_dims(x_test[a], axis=0))[0])\n",
    "axs[1,1].set_title('OnePool')\n",
    "axs[1,2].imshow(PCAout[a])\n",
    "axs[1,2].set_title('PCA')"
   ]
  },
  {
   "cell_type": "code",
   "execution_count": null,
   "metadata": {},
   "outputs": [],
   "source": []
  }
 ],
 "metadata": {
  "kernelspec": {
   "display_name": "Python 3 (ipykernel)",
   "language": "python",
   "name": "python3"
  },
  "language_info": {
   "codemirror_mode": {
    "name": "ipython",
    "version": 3
   },
   "file_extension": ".py",
   "mimetype": "text/x-python",
   "name": "python",
   "nbconvert_exporter": "python",
   "pygments_lexer": "ipython3",
   "version": "3.12.0"
  }
 },
 "nbformat": 4,
 "nbformat_minor": 4
}
